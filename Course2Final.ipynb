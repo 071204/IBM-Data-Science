{
 "cells": [
  {
   "cell_type": "markdown",
   "id": "21d550bb",
   "metadata": {},
   "source": [
    "# Data Science Tools and Ecosystem"
   ]
  },
  {
   "cell_type": "markdown",
   "id": "d26451c9",
   "metadata": {},
   "source": [
    "## Introduction\n",
    "- In this notebook, Data Science Tools and Ecosystem are summarized."
   ]
  },
  {
   "cell_type": "markdown",
   "id": "21fdbbbe",
   "metadata": {},
   "source": [
    "## Data Science Lagnuages\n",
    "- Python\n",
    "- R\n",
    "- SQL\n",
    "- Java\n",
    "- Julia\n",
    "- JavaScript\n",
    "- PHP\n",
    "- Go\n",
    "- Ruby\n",
    "- Visual Basic"
   ]
  },
  {
   "cell_type": "markdown",
   "id": "94282815",
   "metadata": {},
   "source": [
    "## Data Science Libraries\n",
    "\n",
    "### Python\n",
    "- Matplotlib\n",
    "- Numpy\n",
    "- SciPy\n",
    "- Pandas\n",
    "- Seaborn\n",
    "- Plotly\n",
    "- Sckit-learn\n",
    "- Tensorflow\n",
    "- PyTorch\n",
    "\n",
    "### R\n",
    "- ggplot\n",
    "- dplyr\n",
    "- tidyr\n",
    "- caret\n",
    "- purrr\n",
    "- stringr\n",
    "- lubridate\n",
    "- tidymodels\n",
    "- magrittr\n",
    "- data.table"
   ]
  },
  {
   "cell_type": "markdown",
   "id": "bae53618",
   "metadata": {},
   "source": [
    "| Data Science Tool |\n",
    "| --- | \n",
    "| Anaconda |\n",
    "| Jupyter Notebook |\n",
    "| R Studio |\n",
    "| Spyder |\n",
    "| Zeppelin |"
   ]
  },
  {
   "cell_type": "markdown",
   "id": "eb0c3e68",
   "metadata": {},
   "source": [
    "| Tool | Description |\n",
    "| --- | --- |\n",
    "| Python | General-purpose language with a large data science community and many scientific libraries |\n",
    "| R | Language specifically designed for data manipulation, analysis, and visualization |\n",
    "| SQL | Language for managing and querying relational databases |\n",
    "| SAS | Popular for statistical analysis and business intelligence |\n",
    "| Tableau | Business intelligence software for creating visualizations and dashboards |\n",
    "| Excel | Spreadsheet software with basic data science capabilities |\n",
    "| Apache Spark | Distributed computing engine for big data processing |\n",
    "| TensorFlow | Open-source library for building and deploying machine learning models |\n",
    "| Hadoop | Open-source framework for distributed storage and processing of large data sets |"
   ]
  },
  {
   "cell_type": "markdown",
   "id": "ae586a78",
   "metadata": {},
   "source": [
    "## Arithmetic Expressions\n",
    "\n",
    "Arithmetic expressions are mathematical calculations that involve arithmetic operators such as addition, subtraction, multiplication, and division. These expressions are commonly used in programming and data analysis to perform calculations on numerical data.\n",
    "\n",
    "Here are some examples of arithmetic expressions:\n",
    "\n",
    "- `2 + 3`: adds 2 and 3, resulting in 5\n",
    "- `7 - 4`: subtracts 4 from 7, resulting in 3\n",
    "- `5 * 6`: multiplies 5 and 6, resulting in 30\n",
    "- `10 / 2`: divides 10 by 2, resulting in 5\n",
    "\n",
    "In addition to these basic operators, there are also other operators such as modulo (`%`), which gives the remainder of a division, and exponentiation (`**`), which raises a number to a power.\n",
    "\n",
    "By using variables and functions, complex expressions can be created to perform more advanced calculations. Understanding arithmetic expressions is an important foundation for working with data and writing code."
   ]
  },
  {
   "cell_type": "markdown",
   "id": "5d5ac827",
   "metadata": {},
   "source": [
    "## Arithmetic Expressions\n",
    "### Below are a few examples of evaluating arithmetic expressions in Python"
   ]
  },
  {
   "cell_type": "code",
   "execution_count": 7,
   "id": "a9ae549b",
   "metadata": {},
   "outputs": [
    {
     "data": {
      "text/plain": [
       "17"
      ]
     },
     "execution_count": 7,
     "metadata": {},
     "output_type": "execute_result"
    }
   ],
   "source": [
    "# Multiply and Add\n",
    "(3 * 4) + 5"
   ]
  },
  {
   "cell_type": "code",
   "execution_count": 9,
   "id": "a6e8f6e8",
   "metadata": {},
   "outputs": [
    {
     "data": {
      "text/plain": [
       "3.33"
      ]
     },
     "execution_count": 9,
     "metadata": {},
     "output_type": "execute_result"
    }
   ],
   "source": [
    "# Convert minutes to hour\n",
    "def minsToHours(mins):\n",
    "    return round(mins / 60, 2)\n",
    "\n",
    "minsToHours(200)"
   ]
  },
  {
   "cell_type": "markdown",
   "id": "69fc2f05",
   "metadata": {},
   "source": [
    "## Objectives\n",
    "To know how to write code and markdown in jupyter notebook!\n",
    "- write markdown\n",
    "- format markdown contents\n",
    "- write code"
   ]
  },
  {
   "cell_type": "markdown",
   "id": "a4e631c8",
   "metadata": {},
   "source": [
    "## Author’s name\n",
    "Jack Chen"
   ]
  },
  {
   "cell_type": "code",
   "execution_count": 5,
   "id": "12e37f54",
   "metadata": {},
   "outputs": [
    {
     "data": {
      "text/plain": [
       "array([0, 0, 0, 0, 0])"
      ]
     },
     "execution_count": 5,
     "metadata": {},
     "output_type": "execute_result"
    }
   ],
   "source": [
    "import numpy as np\n",
    "a = np.array([0,1,0,1,0]) \n",
    "b = np.array([1,0,1,0,1]) \n",
    "a * b"
   ]
  }
 ],
 "metadata": {
  "kernelspec": {
   "display_name": "Python 3 (ipykernel)",
   "language": "python",
   "name": "python3"
  },
  "language_info": {
   "codemirror_mode": {
    "name": "ipython",
    "version": 3
   },
   "file_extension": ".py",
   "mimetype": "text/x-python",
   "name": "python",
   "nbconvert_exporter": "python",
   "pygments_lexer": "ipython3",
   "version": "3.11.1"
  }
 },
 "nbformat": 4,
 "nbformat_minor": 5
}
