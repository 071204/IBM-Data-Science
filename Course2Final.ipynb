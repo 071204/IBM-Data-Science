{
 "cells": [
  {
   "cell_type": "markdown",
   "id": "2d17d15c",
   "metadata": {},
   "source": [
    "# Course2Final"
   ]
  },
  {
   "cell_type": "markdown",
   "id": "2db2c91b",
   "metadata": {},
   "source": [
    "## Introduction\n",
    "- This is an notebook file for completing the final assignment of course 2"
   ]
  },
  {
   "cell_type": "markdown",
   "id": "971bb398",
   "metadata": {},
   "source": [
    "## Data Science Lagnuages\n",
    "- Python\n",
    "- R\n",
    "- SQL\n",
    "- Java\n",
    "- Julia"
   ]
  },
  {
   "cell_type": "markdown",
   "id": "e4e903c7",
   "metadata": {},
   "source": [
    "## Data Science Libraries\n",
    "\n",
    "### Python\n",
    "- Matplotlib\n",
    "- Numpy\n",
    "- SciPy\n",
    "- Pandas\n",
    "- Seaborn\n",
    "- Plotly\n",
    "- Sckit-learn\n",
    "- Tensorflow\n",
    "- PyTorch\n",
    "\n",
    "### R\n",
    "- ggplot\n",
    "- dplyr\n",
    "- tidyr\n",
    "- caret\n",
    "- purrr\n",
    "- stringr\n",
    "- lubridate\n",
    "- tidymodels\n",
    "- magrittr\n",
    "- data.table"
   ]
  },
  {
   "cell_type": "markdown",
   "id": "c63086c4",
   "metadata": {},
   "source": [
    "| Tool | Description |\n",
    "| --- | --- |\n",
    "| Python | General-purpose language with a large data science community and many scientific libraries |\n",
    "| R | Language specifically designed for data manipulation, analysis, and visualization |\n",
    "| SQL | Language for managing and querying relational databases |\n",
    "| SAS | Popular for statistical analysis and business intelligence |\n",
    "| Tableau | Business intelligence software for creating visualizations and dashboards |\n",
    "| Excel | Spreadsheet software with basic data science capabilities |\n",
    "| Apache Spark | Distributed computing engine for big data processing |\n",
    "| TensorFlow | Open-source library for building and deploying machine learning models |\n",
    "| Hadoop | Open-source framework for distributed storage and processing of large data sets |"
   ]
  },
  {
   "cell_type": "markdown",
   "id": "6dbacab8",
   "metadata": {},
   "source": [
    "## Arithmetic Expressions\n",
    "\n",
    "Arithmetic expressions are mathematical calculations that involve arithmetic operators such as addition, subtraction, multiplication, and division. These expressions are commonly used in programming and data analysis to perform calculations on numerical data.\n",
    "\n",
    "Here are some examples of arithmetic expressions:\n",
    "\n",
    "- `2 + 3`: adds 2 and 3, resulting in 5\n",
    "- `7 - 4`: subtracts 4 from 7, resulting in 3\n",
    "- `5 * 6`: multiplies 5 and 6, resulting in 30\n",
    "- `10 / 2`: divides 10 by 2, resulting in 5\n",
    "\n",
    "In addition to these basic operators, there are also other operators such as modulo (`%`), which gives the remainder of a division, and exponentiation (`**`), which raises a number to a power.\n",
    "\n",
    "By using variables and functions, complex expressions can be created to perform more advanced calculations. Understanding arithmetic expressions is an important foundation for working with data and writing code."
   ]
  },
  {
   "cell_type": "code",
   "execution_count": 1,
   "id": "6ec7df9d",
   "metadata": {},
   "outputs": [
    {
     "name": "stdout",
     "output_type": "stream",
     "text": [
      "6\n",
      "5\n"
     ]
    }
   ],
   "source": [
    "# Multiply\n",
    "print(2*3)\n",
    "\n",
    "# Add\n",
    "print(2+3)"
   ]
  },
  {
   "cell_type": "code",
   "execution_count": 2,
   "id": "50320db9",
   "metadata": {},
   "outputs": [
    {
     "data": {
      "text/plain": [
       "1.3166666666666667"
      ]
     },
     "execution_count": 2,
     "metadata": {},
     "output_type": "execute_result"
    }
   ],
   "source": [
    "# Convert minutes to hour\n",
    "def minsToHours(mins):\n",
    "    return mins / 60\n",
    "\n",
    "minsToHours(79)"
   ]
  },
  {
   "cell_type": "markdown",
   "id": "8597d2ac",
   "metadata": {},
   "source": [
    "## Objectives\n",
    "To know how to write code and markdown in jupyter notebook!"
   ]
  },
  {
   "cell_type": "markdown",
   "id": "5a2a10a0",
   "metadata": {},
   "source": [
    "## Author’s name\n",
    "Jack Chen"
   ]
  }
 ],
 "metadata": {
  "kernelspec": {
   "display_name": "Python 3 (ipykernel)",
   "language": "python",
   "name": "python3"
  },
  "language_info": {
   "codemirror_mode": {
    "name": "ipython",
    "version": 3
   },
   "file_extension": ".py",
   "mimetype": "text/x-python",
   "name": "python",
   "nbconvert_exporter": "python",
   "pygments_lexer": "ipython3",
   "version": "3.11.1"
  }
 },
 "nbformat": 4,
 "nbformat_minor": 5
}
